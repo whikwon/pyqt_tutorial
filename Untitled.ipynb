{
 "cells": [
  {
   "cell_type": "code",
   "execution_count": 1,
   "metadata": {},
   "outputs": [
    {
     "ename": "SystemExit",
     "evalue": "0",
     "output_type": "error",
     "traceback": [
      "An exception has occurred, use %tb to see the full traceback.\n",
      "\u001b[0;31mSystemExit\u001b[0m\u001b[0;31m:\u001b[0m 0\n"
     ]
    },
    {
     "name": "stderr",
     "output_type": "stream",
     "text": [
      "/home/whikwon/anaconda3/envs/py36/lib/python3.6/site-packages/IPython/core/interactiveshell.py:2918: UserWarning: To exit: use 'exit', 'quit', or Ctrl-D.\n",
      "  warn(\"To exit: use 'exit', 'quit', or Ctrl-D.\", stacklevel=1)\n"
     ]
    }
   ],
   "source": [
    "import sys\n",
    "from PyQt5 import QtGui\n",
    "from PyQt5.QtWidgets import QMainWindow, QApplication, QPushButton, QToolTip, QMessageBox\n",
    "from PyQt5.QtCore import QCoreApplication\n",
    "\n",
    "\n",
    "\n",
    "class Window(QMainWindow):\n",
    "    def __init__(self):\n",
    "        super().__init__()\n",
    "\n",
    "        self.title = \"PyQt5 Push Button\"\n",
    "        self.left = 100\n",
    "        self.top = 100\n",
    "        self.width = 680\n",
    "        self.height = 540\n",
    "        self.setWindowIcon(QtGui.QIcon(\"icon.png\"))\n",
    "\n",
    "        button = QPushButton(\"Close\", self)\n",
    "        # move button to another location \n",
    "        button.move(200,200)\n",
    "        button.setToolTip(\"<h3>This Is Click Button</h3>\")\n",
    "        button.clicked.connect(self.CloseApp)\n",
    "\n",
    "\n",
    "\n",
    "        self.InitUI()\n",
    "\n",
    "\n",
    "    def InitUI(self):\n",
    "        self.setWindowTitle(self.title)\n",
    "        self.setGeometry(self.left, self.top,self.width, self.height)\n",
    "        self.show()\n",
    "\n",
    "    def CloseApp(self):\n",
    "        reply = QMessageBox.question(self, \"Close Message\", \"Are You Sure To Close Window\",\n",
    "                                     QMessageBox.Yes | QMessageBox.No, QMessageBox.No)\n",
    "\n",
    "        if reply == QMessageBox.Yes:\n",
    "            self.close()\n",
    "\n",
    "\n",
    "App = QApplication(sys.argv)\n",
    "window = Window()\n",
    "sys.exit(App.exec())"
   ]
  }
 ],
 "metadata": {
  "kernelspec": {
   "display_name": "py36",
   "language": "python",
   "name": "py36"
  },
  "language_info": {
   "codemirror_mode": {
    "name": "ipython",
    "version": 3
   },
   "file_extension": ".py",
   "mimetype": "text/x-python",
   "name": "python",
   "nbconvert_exporter": "python",
   "pygments_lexer": "ipython3",
   "version": "3.6.4"
  }
 },
 "nbformat": 4,
 "nbformat_minor": 2
}
